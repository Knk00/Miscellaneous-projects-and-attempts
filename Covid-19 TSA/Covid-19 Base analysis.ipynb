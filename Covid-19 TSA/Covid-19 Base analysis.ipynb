{
 "cells": [
  {
   "cell_type": "code",
   "execution_count": 35,
   "metadata": {},
   "outputs": [],
   "source": [
    "!pip3 freeze > requirements.txt"
   ]
  },
  {
   "cell_type": "markdown",
   "metadata": {
    "colab_type": "text",
    "id": "kLZE-6LRYZeV"
   },
   "source": [
    "# Importing libraries\n",
    "\n"
   ]
  },
  {
   "cell_type": "code",
   "execution_count": 3,
   "metadata": {
    "colab": {},
    "colab_type": "code",
    "id": "ZVRJKGad0lrk"
   },
   "outputs": [],
   "source": [
    "import numpy as np\n",
    "import pandas as pd\n",
    "import matplotlib.pyplot as plt\n",
    "import seaborn as sns\n",
    "import datetime as dt"
   ]
  },
  {
   "cell_type": "markdown",
   "metadata": {
    "colab_type": "text",
    "id": "0G1z2XGRYhXX"
   },
   "source": [
    "# Data reading and preprocessing\n"
   ]
  },
  {
   "cell_type": "code",
   "execution_count": 4,
   "metadata": {
    "colab": {
     "base_uri": "https://localhost:8080/",
     "height": 309
    },
    "colab_type": "code",
    "id": "WV374M6d0lro",
    "outputId": "7b1ca8c7-8b50-41a4-e613-3afc151e0123"
   },
   "outputs": [
    {
     "data": {
      "text/html": [
       "<div>\n",
       "<style scoped>\n",
       "    .dataframe tbody tr th:only-of-type {\n",
       "        vertical-align: middle;\n",
       "    }\n",
       "\n",
       "    .dataframe tbody tr th {\n",
       "        vertical-align: top;\n",
       "    }\n",
       "\n",
       "    .dataframe thead th {\n",
       "        text-align: right;\n",
       "    }\n",
       "</style>\n",
       "<table border=\"1\" class=\"dataframe\">\n",
       "  <thead>\n",
       "    <tr style=\"text-align: right;\">\n",
       "      <th></th>\n",
       "      <th>iso_code</th>\n",
       "      <th>continent</th>\n",
       "      <th>location</th>\n",
       "      <th>date</th>\n",
       "      <th>total_cases</th>\n",
       "      <th>new_cases</th>\n",
       "      <th>total_deaths</th>\n",
       "      <th>new_deaths</th>\n",
       "      <th>total_cases_per_million</th>\n",
       "      <th>new_cases_per_million</th>\n",
       "      <th>...</th>\n",
       "      <th>aged_70_older</th>\n",
       "      <th>gdp_per_capita</th>\n",
       "      <th>extreme_poverty</th>\n",
       "      <th>cardiovasc_death_rate</th>\n",
       "      <th>diabetes_prevalence</th>\n",
       "      <th>female_smokers</th>\n",
       "      <th>male_smokers</th>\n",
       "      <th>handwashing_facilities</th>\n",
       "      <th>hospital_beds_per_thousand</th>\n",
       "      <th>life_expectancy</th>\n",
       "    </tr>\n",
       "  </thead>\n",
       "  <tbody>\n",
       "    <tr>\n",
       "      <th>0</th>\n",
       "      <td>AFG</td>\n",
       "      <td>Asia</td>\n",
       "      <td>Afghanistan</td>\n",
       "      <td>2019-12-31</td>\n",
       "      <td>0.0</td>\n",
       "      <td>0.0</td>\n",
       "      <td>0.0</td>\n",
       "      <td>0.0</td>\n",
       "      <td>0.0</td>\n",
       "      <td>0.0</td>\n",
       "      <td>...</td>\n",
       "      <td>1.337</td>\n",
       "      <td>1803.987</td>\n",
       "      <td>NaN</td>\n",
       "      <td>597.029</td>\n",
       "      <td>9.59</td>\n",
       "      <td>NaN</td>\n",
       "      <td>NaN</td>\n",
       "      <td>37.746</td>\n",
       "      <td>0.5</td>\n",
       "      <td>64.83</td>\n",
       "    </tr>\n",
       "    <tr>\n",
       "      <th>1</th>\n",
       "      <td>AFG</td>\n",
       "      <td>Asia</td>\n",
       "      <td>Afghanistan</td>\n",
       "      <td>2020-01-01</td>\n",
       "      <td>0.0</td>\n",
       "      <td>0.0</td>\n",
       "      <td>0.0</td>\n",
       "      <td>0.0</td>\n",
       "      <td>0.0</td>\n",
       "      <td>0.0</td>\n",
       "      <td>...</td>\n",
       "      <td>1.337</td>\n",
       "      <td>1803.987</td>\n",
       "      <td>NaN</td>\n",
       "      <td>597.029</td>\n",
       "      <td>9.59</td>\n",
       "      <td>NaN</td>\n",
       "      <td>NaN</td>\n",
       "      <td>37.746</td>\n",
       "      <td>0.5</td>\n",
       "      <td>64.83</td>\n",
       "    </tr>\n",
       "    <tr>\n",
       "      <th>2</th>\n",
       "      <td>AFG</td>\n",
       "      <td>Asia</td>\n",
       "      <td>Afghanistan</td>\n",
       "      <td>2020-01-02</td>\n",
       "      <td>0.0</td>\n",
       "      <td>0.0</td>\n",
       "      <td>0.0</td>\n",
       "      <td>0.0</td>\n",
       "      <td>0.0</td>\n",
       "      <td>0.0</td>\n",
       "      <td>...</td>\n",
       "      <td>1.337</td>\n",
       "      <td>1803.987</td>\n",
       "      <td>NaN</td>\n",
       "      <td>597.029</td>\n",
       "      <td>9.59</td>\n",
       "      <td>NaN</td>\n",
       "      <td>NaN</td>\n",
       "      <td>37.746</td>\n",
       "      <td>0.5</td>\n",
       "      <td>64.83</td>\n",
       "    </tr>\n",
       "    <tr>\n",
       "      <th>3</th>\n",
       "      <td>AFG</td>\n",
       "      <td>Asia</td>\n",
       "      <td>Afghanistan</td>\n",
       "      <td>2020-01-03</td>\n",
       "      <td>0.0</td>\n",
       "      <td>0.0</td>\n",
       "      <td>0.0</td>\n",
       "      <td>0.0</td>\n",
       "      <td>0.0</td>\n",
       "      <td>0.0</td>\n",
       "      <td>...</td>\n",
       "      <td>1.337</td>\n",
       "      <td>1803.987</td>\n",
       "      <td>NaN</td>\n",
       "      <td>597.029</td>\n",
       "      <td>9.59</td>\n",
       "      <td>NaN</td>\n",
       "      <td>NaN</td>\n",
       "      <td>37.746</td>\n",
       "      <td>0.5</td>\n",
       "      <td>64.83</td>\n",
       "    </tr>\n",
       "    <tr>\n",
       "      <th>4</th>\n",
       "      <td>AFG</td>\n",
       "      <td>Asia</td>\n",
       "      <td>Afghanistan</td>\n",
       "      <td>2020-01-04</td>\n",
       "      <td>0.0</td>\n",
       "      <td>0.0</td>\n",
       "      <td>0.0</td>\n",
       "      <td>0.0</td>\n",
       "      <td>0.0</td>\n",
       "      <td>0.0</td>\n",
       "      <td>...</td>\n",
       "      <td>1.337</td>\n",
       "      <td>1803.987</td>\n",
       "      <td>NaN</td>\n",
       "      <td>597.029</td>\n",
       "      <td>9.59</td>\n",
       "      <td>NaN</td>\n",
       "      <td>NaN</td>\n",
       "      <td>37.746</td>\n",
       "      <td>0.5</td>\n",
       "      <td>64.83</td>\n",
       "    </tr>\n",
       "  </tbody>\n",
       "</table>\n",
       "<p>5 rows × 34 columns</p>\n",
       "</div>"
      ],
      "text/plain": [
       "  iso_code continent     location       date  total_cases  new_cases  \\\n",
       "0      AFG      Asia  Afghanistan 2019-12-31          0.0        0.0   \n",
       "1      AFG      Asia  Afghanistan 2020-01-01          0.0        0.0   \n",
       "2      AFG      Asia  Afghanistan 2020-01-02          0.0        0.0   \n",
       "3      AFG      Asia  Afghanistan 2020-01-03          0.0        0.0   \n",
       "4      AFG      Asia  Afghanistan 2020-01-04          0.0        0.0   \n",
       "\n",
       "   total_deaths  new_deaths  total_cases_per_million  new_cases_per_million  \\\n",
       "0           0.0         0.0                      0.0                    0.0   \n",
       "1           0.0         0.0                      0.0                    0.0   \n",
       "2           0.0         0.0                      0.0                    0.0   \n",
       "3           0.0         0.0                      0.0                    0.0   \n",
       "4           0.0         0.0                      0.0                    0.0   \n",
       "\n",
       "   ...  aged_70_older  gdp_per_capita  extreme_poverty  cardiovasc_death_rate  \\\n",
       "0  ...          1.337        1803.987              NaN                597.029   \n",
       "1  ...          1.337        1803.987              NaN                597.029   \n",
       "2  ...          1.337        1803.987              NaN                597.029   \n",
       "3  ...          1.337        1803.987              NaN                597.029   \n",
       "4  ...          1.337        1803.987              NaN                597.029   \n",
       "\n",
       "   diabetes_prevalence  female_smokers  male_smokers  handwashing_facilities  \\\n",
       "0                 9.59             NaN           NaN                  37.746   \n",
       "1                 9.59             NaN           NaN                  37.746   \n",
       "2                 9.59             NaN           NaN                  37.746   \n",
       "3                 9.59             NaN           NaN                  37.746   \n",
       "4                 9.59             NaN           NaN                  37.746   \n",
       "\n",
       "  hospital_beds_per_thousand  life_expectancy  \n",
       "0                        0.5            64.83  \n",
       "1                        0.5            64.83  \n",
       "2                        0.5            64.83  \n",
       "3                        0.5            64.83  \n",
       "4                        0.5            64.83  \n",
       "\n",
       "[5 rows x 34 columns]"
      ]
     },
     "execution_count": 4,
     "metadata": {},
     "output_type": "execute_result"
    }
   ],
   "source": [
    "data = pd.read_csv(\"owid-covid-data.csv\")\n",
    "data[\"date\"] = pd.to_datetime(data[\"date\"])\n",
    "data.head()"
   ]
  },
  {
   "cell_type": "code",
   "execution_count": 5,
   "metadata": {
    "colab": {
     "base_uri": "https://localhost:8080/",
     "height": 289
    },
    "colab_type": "code",
    "id": "eIuVGr620lru",
    "outputId": "4e6c32ea-47c2-4dd1-df95-d1f5f2d1c12e"
   },
   "outputs": [
    {
     "data": {
      "text/html": [
       "<div>\n",
       "<style scoped>\n",
       "    .dataframe tbody tr th:only-of-type {\n",
       "        vertical-align: middle;\n",
       "    }\n",
       "\n",
       "    .dataframe tbody tr th {\n",
       "        vertical-align: top;\n",
       "    }\n",
       "\n",
       "    .dataframe thead th {\n",
       "        text-align: right;\n",
       "    }\n",
       "</style>\n",
       "<table border=\"1\" class=\"dataframe\">\n",
       "  <thead>\n",
       "    <tr style=\"text-align: right;\">\n",
       "      <th></th>\n",
       "      <th>location</th>\n",
       "      <th>date</th>\n",
       "      <th>total_cases</th>\n",
       "      <th>total_deaths</th>\n",
       "      <th>total_tests</th>\n",
       "      <th>population_density</th>\n",
       "      <th>median_age</th>\n",
       "      <th>hospital_beds_per_thousand</th>\n",
       "      <th>life_expectancy</th>\n",
       "      <th>handwashing_facilities</th>\n",
       "    </tr>\n",
       "  </thead>\n",
       "  <tbody>\n",
       "    <tr>\n",
       "      <th>0</th>\n",
       "      <td>Afghanistan</td>\n",
       "      <td>2019-12-31</td>\n",
       "      <td>0.0</td>\n",
       "      <td>0.0</td>\n",
       "      <td>NaN</td>\n",
       "      <td>54.422</td>\n",
       "      <td>18.6</td>\n",
       "      <td>0.5</td>\n",
       "      <td>64.83</td>\n",
       "      <td>37.746</td>\n",
       "    </tr>\n",
       "    <tr>\n",
       "      <th>1</th>\n",
       "      <td>Afghanistan</td>\n",
       "      <td>2020-01-01</td>\n",
       "      <td>0.0</td>\n",
       "      <td>0.0</td>\n",
       "      <td>NaN</td>\n",
       "      <td>54.422</td>\n",
       "      <td>18.6</td>\n",
       "      <td>0.5</td>\n",
       "      <td>64.83</td>\n",
       "      <td>37.746</td>\n",
       "    </tr>\n",
       "    <tr>\n",
       "      <th>2</th>\n",
       "      <td>Afghanistan</td>\n",
       "      <td>2020-01-02</td>\n",
       "      <td>0.0</td>\n",
       "      <td>0.0</td>\n",
       "      <td>NaN</td>\n",
       "      <td>54.422</td>\n",
       "      <td>18.6</td>\n",
       "      <td>0.5</td>\n",
       "      <td>64.83</td>\n",
       "      <td>37.746</td>\n",
       "    </tr>\n",
       "    <tr>\n",
       "      <th>3</th>\n",
       "      <td>Afghanistan</td>\n",
       "      <td>2020-01-03</td>\n",
       "      <td>0.0</td>\n",
       "      <td>0.0</td>\n",
       "      <td>NaN</td>\n",
       "      <td>54.422</td>\n",
       "      <td>18.6</td>\n",
       "      <td>0.5</td>\n",
       "      <td>64.83</td>\n",
       "      <td>37.746</td>\n",
       "    </tr>\n",
       "    <tr>\n",
       "      <th>4</th>\n",
       "      <td>Afghanistan</td>\n",
       "      <td>2020-01-04</td>\n",
       "      <td>0.0</td>\n",
       "      <td>0.0</td>\n",
       "      <td>NaN</td>\n",
       "      <td>54.422</td>\n",
       "      <td>18.6</td>\n",
       "      <td>0.5</td>\n",
       "      <td>64.83</td>\n",
       "      <td>37.746</td>\n",
       "    </tr>\n",
       "  </tbody>\n",
       "</table>\n",
       "</div>"
      ],
      "text/plain": [
       "      location       date  total_cases  total_deaths  total_tests  \\\n",
       "0  Afghanistan 2019-12-31          0.0           0.0          NaN   \n",
       "1  Afghanistan 2020-01-01          0.0           0.0          NaN   \n",
       "2  Afghanistan 2020-01-02          0.0           0.0          NaN   \n",
       "3  Afghanistan 2020-01-03          0.0           0.0          NaN   \n",
       "4  Afghanistan 2020-01-04          0.0           0.0          NaN   \n",
       "\n",
       "   population_density  median_age  hospital_beds_per_thousand  \\\n",
       "0              54.422        18.6                         0.5   \n",
       "1              54.422        18.6                         0.5   \n",
       "2              54.422        18.6                         0.5   \n",
       "3              54.422        18.6                         0.5   \n",
       "4              54.422        18.6                         0.5   \n",
       "\n",
       "   life_expectancy  handwashing_facilities  \n",
       "0            64.83                  37.746  \n",
       "1            64.83                  37.746  \n",
       "2            64.83                  37.746  \n",
       "3            64.83                  37.746  \n",
       "4            64.83                  37.746  "
      ]
     },
     "execution_count": 5,
     "metadata": {},
     "output_type": "execute_result"
    }
   ],
   "source": [
    "data = data[['location',\"date\",\"total_cases\",\"total_deaths\",'total_tests','population_density','median_age','hospital_beds_per_thousand','life_expectancy','handwashing_facilities']]\n",
    "data.head()"
   ]
  },
  {
   "cell_type": "code",
   "execution_count": 6,
   "metadata": {
    "colab": {
     "base_uri": "https://localhost:8080/",
     "height": 221
    },
    "colab_type": "code",
    "id": "5a-atEqQ0lrx",
    "outputId": "d404bf08-3095-417a-e009-aeead5b4c65a",
    "scrolled": true
   },
   "outputs": [
    {
     "name": "stdout",
     "output_type": "stream",
     "text": [
      "% null values in data column wise\n"
     ]
    },
    {
     "data": {
      "text/plain": [
       "location                       0.000000\n",
       "date                           0.000000\n",
       "total_cases                    1.069052\n",
       "total_deaths                   1.069052\n",
       "total_tests                   67.937483\n",
       "population_density             4.505074\n",
       "median_age                     9.994881\n",
       "hospital_beds_per_thousand    18.125696\n",
       "life_expectancy                1.394284\n",
       "handwashing_facilities        58.827958\n",
       "dtype: float64"
      ]
     },
     "execution_count": 6,
     "metadata": {},
     "output_type": "execute_result"
    }
   ],
   "source": [
    "print(\"% null values in data column wise\")\n",
    "data.isna().sum()/data.shape[0]*100"
   ]
  },
  {
   "cell_type": "code",
   "execution_count": 7,
   "metadata": {
    "colab": {},
    "colab_type": "code",
    "id": "Hx16dg640lr0"
   },
   "outputs": [],
   "source": [
    "data = data.drop(columns=[\"total_tests\",\"handwashing_facilities\"],axis=1)"
   ]
  },
  {
   "cell_type": "code",
   "execution_count": 8,
   "metadata": {
    "colab": {
     "base_uri": "https://localhost:8080/",
     "height": 450
    },
    "colab_type": "code",
    "id": "y6sVrVh60lr2",
    "outputId": "3b97194b-4151-4a23-9add-c2a556b82701"
   },
   "outputs": [
    {
     "data": {
      "text/html": [
       "<div>\n",
       "<style scoped>\n",
       "    .dataframe tbody tr th:only-of-type {\n",
       "        vertical-align: middle;\n",
       "    }\n",
       "\n",
       "    .dataframe tbody tr th {\n",
       "        vertical-align: top;\n",
       "    }\n",
       "\n",
       "    .dataframe thead th {\n",
       "        text-align: right;\n",
       "    }\n",
       "</style>\n",
       "<table border=\"1\" class=\"dataframe\">\n",
       "  <thead>\n",
       "    <tr style=\"text-align: right;\">\n",
       "      <th></th>\n",
       "      <th>total_cases</th>\n",
       "      <th>total_deaths</th>\n",
       "      <th>population_density</th>\n",
       "      <th>median_age</th>\n",
       "      <th>hospital_beds_per_thousand</th>\n",
       "      <th>life_expectancy</th>\n",
       "    </tr>\n",
       "    <tr>\n",
       "      <th>location</th>\n",
       "      <th></th>\n",
       "      <th></th>\n",
       "      <th></th>\n",
       "      <th></th>\n",
       "      <th></th>\n",
       "      <th></th>\n",
       "    </tr>\n",
       "  </thead>\n",
       "  <tbody>\n",
       "    <tr>\n",
       "      <th>Afghanistan</th>\n",
       "      <td>9.639144e+03</td>\n",
       "      <td>244.990050</td>\n",
       "      <td>54.422</td>\n",
       "      <td>18.6</td>\n",
       "      <td>0.500</td>\n",
       "      <td>64.83</td>\n",
       "    </tr>\n",
       "    <tr>\n",
       "      <th>Albania</th>\n",
       "      <td>1.385028e+03</td>\n",
       "      <td>40.225352</td>\n",
       "      <td>104.871</td>\n",
       "      <td>38.0</td>\n",
       "      <td>2.890</td>\n",
       "      <td>78.57</td>\n",
       "    </tr>\n",
       "    <tr>\n",
       "      <th>Algeria</th>\n",
       "      <td>5.724107e+03</td>\n",
       "      <td>378.300971</td>\n",
       "      <td>17.348</td>\n",
       "      <td>29.1</td>\n",
       "      <td>1.900</td>\n",
       "      <td>76.88</td>\n",
       "    </tr>\n",
       "    <tr>\n",
       "      <th>Andorra</th>\n",
       "      <td>6.893796e+02</td>\n",
       "      <td>39.569343</td>\n",
       "      <td>163.755</td>\n",
       "      <td>NaN</td>\n",
       "      <td>NaN</td>\n",
       "      <td>83.73</td>\n",
       "    </tr>\n",
       "    <tr>\n",
       "      <th>Angola</th>\n",
       "      <td>1.727519e+02</td>\n",
       "      <td>8.186047</td>\n",
       "      <td>23.890</td>\n",
       "      <td>16.8</td>\n",
       "      <td>NaN</td>\n",
       "      <td>61.15</td>\n",
       "    </tr>\n",
       "    <tr>\n",
       "      <th>...</th>\n",
       "      <td>...</td>\n",
       "      <td>...</td>\n",
       "      <td>...</td>\n",
       "      <td>...</td>\n",
       "      <td>...</td>\n",
       "      <td>...</td>\n",
       "    </tr>\n",
       "    <tr>\n",
       "      <th>Western Sahara</th>\n",
       "      <td>2.073191e+02</td>\n",
       "      <td>0.638298</td>\n",
       "      <td>NaN</td>\n",
       "      <td>28.4</td>\n",
       "      <td>NaN</td>\n",
       "      <td>70.26</td>\n",
       "    </tr>\n",
       "    <tr>\n",
       "      <th>World</th>\n",
       "      <td>3.911051e+06</td>\n",
       "      <td>204970.175355</td>\n",
       "      <td>58.045</td>\n",
       "      <td>30.9</td>\n",
       "      <td>2.705</td>\n",
       "      <td>72.58</td>\n",
       "    </tr>\n",
       "    <tr>\n",
       "      <th>Yemen</th>\n",
       "      <td>6.103000e+02</td>\n",
       "      <td>160.900000</td>\n",
       "      <td>53.508</td>\n",
       "      <td>20.3</td>\n",
       "      <td>0.700</td>\n",
       "      <td>66.12</td>\n",
       "    </tr>\n",
       "    <tr>\n",
       "      <th>Zambia</th>\n",
       "      <td>9.893939e+02</td>\n",
       "      <td>20.492424</td>\n",
       "      <td>22.995</td>\n",
       "      <td>17.7</td>\n",
       "      <td>2.000</td>\n",
       "      <td>63.89</td>\n",
       "    </tr>\n",
       "    <tr>\n",
       "      <th>Zimbabwe</th>\n",
       "      <td>3.909385e+02</td>\n",
       "      <td>6.776923</td>\n",
       "      <td>42.729</td>\n",
       "      <td>19.6</td>\n",
       "      <td>1.700</td>\n",
       "      <td>61.49</td>\n",
       "    </tr>\n",
       "  </tbody>\n",
       "</table>\n",
       "<p>212 rows × 6 columns</p>\n",
       "</div>"
      ],
      "text/plain": [
       "                 total_cases   total_deaths  population_density  median_age  \\\n",
       "location                                                                      \n",
       "Afghanistan     9.639144e+03     244.990050              54.422        18.6   \n",
       "Albania         1.385028e+03      40.225352             104.871        38.0   \n",
       "Algeria         5.724107e+03     378.300971              17.348        29.1   \n",
       "Andorra         6.893796e+02      39.569343             163.755         NaN   \n",
       "Angola          1.727519e+02       8.186047              23.890        16.8   \n",
       "...                      ...            ...                 ...         ...   \n",
       "Western Sahara  2.073191e+02       0.638298                 NaN        28.4   \n",
       "World           3.911051e+06  204970.175355              58.045        30.9   \n",
       "Yemen           6.103000e+02     160.900000              53.508        20.3   \n",
       "Zambia          9.893939e+02      20.492424              22.995        17.7   \n",
       "Zimbabwe        3.909385e+02       6.776923              42.729        19.6   \n",
       "\n",
       "                hospital_beds_per_thousand  life_expectancy  \n",
       "location                                                     \n",
       "Afghanistan                          0.500            64.83  \n",
       "Albania                              2.890            78.57  \n",
       "Algeria                              1.900            76.88  \n",
       "Andorra                                NaN            83.73  \n",
       "Angola                                 NaN            61.15  \n",
       "...                                    ...              ...  \n",
       "Western Sahara                         NaN            70.26  \n",
       "World                                2.705            72.58  \n",
       "Yemen                                0.700            66.12  \n",
       "Zambia                               2.000            63.89  \n",
       "Zimbabwe                             1.700            61.49  \n",
       "\n",
       "[212 rows x 6 columns]"
      ]
     },
     "execution_count": 8,
     "metadata": {},
     "output_type": "execute_result"
    }
   ],
   "source": [
    "data.groupby(by=[\"location\"]).mean()"
   ]
  },
  {
   "cell_type": "code",
   "execution_count": 9,
   "metadata": {
    "colab": {
     "base_uri": "https://localhost:8080/",
     "height": 297
    },
    "colab_type": "code",
    "id": "CuEhqXtAZgU_",
    "outputId": "b769ee09-5930-430f-acf4-ed9c16f09a76"
   },
   "outputs": [
    {
     "data": {
      "text/html": [
       "<div>\n",
       "<style scoped>\n",
       "    .dataframe tbody tr th:only-of-type {\n",
       "        vertical-align: middle;\n",
       "    }\n",
       "\n",
       "    .dataframe tbody tr th {\n",
       "        vertical-align: top;\n",
       "    }\n",
       "\n",
       "    .dataframe thead th {\n",
       "        text-align: right;\n",
       "    }\n",
       "</style>\n",
       "<table border=\"1\" class=\"dataframe\">\n",
       "  <thead>\n",
       "    <tr style=\"text-align: right;\">\n",
       "      <th></th>\n",
       "      <th>total_cases</th>\n",
       "      <th>total_deaths</th>\n",
       "      <th>population_density</th>\n",
       "      <th>median_age</th>\n",
       "      <th>hospital_beds_per_thousand</th>\n",
       "      <th>life_expectancy</th>\n",
       "    </tr>\n",
       "  </thead>\n",
       "  <tbody>\n",
       "    <tr>\n",
       "      <th>count</th>\n",
       "      <td>3.285200e+04</td>\n",
       "      <td>32852.000000</td>\n",
       "      <td>31711.000000</td>\n",
       "      <td>29888.000000</td>\n",
       "      <td>27188.000000</td>\n",
       "      <td>32744.000000</td>\n",
       "    </tr>\n",
       "    <tr>\n",
       "      <th>mean</th>\n",
       "      <td>5.022757e+04</td>\n",
       "      <td>2632.043742</td>\n",
       "      <td>368.823430</td>\n",
       "      <td>31.641485</td>\n",
       "      <td>3.147806</td>\n",
       "      <td>74.249280</td>\n",
       "    </tr>\n",
       "    <tr>\n",
       "      <th>std</th>\n",
       "      <td>5.106306e+05</td>\n",
       "      <td>25029.235976</td>\n",
       "      <td>1681.127189</td>\n",
       "      <td>9.012004</td>\n",
       "      <td>2.549893</td>\n",
       "      <td>7.315021</td>\n",
       "    </tr>\n",
       "    <tr>\n",
       "      <th>min</th>\n",
       "      <td>0.000000e+00</td>\n",
       "      <td>0.000000</td>\n",
       "      <td>0.137000</td>\n",
       "      <td>15.100000</td>\n",
       "      <td>0.100000</td>\n",
       "      <td>53.280000</td>\n",
       "    </tr>\n",
       "    <tr>\n",
       "      <th>25%</th>\n",
       "      <td>2.100000e+01</td>\n",
       "      <td>0.000000</td>\n",
       "      <td>39.497000</td>\n",
       "      <td>24.400000</td>\n",
       "      <td>1.380000</td>\n",
       "      <td>70.390000</td>\n",
       "    </tr>\n",
       "    <tr>\n",
       "      <th>50%</th>\n",
       "      <td>4.410000e+02</td>\n",
       "      <td>9.000000</td>\n",
       "      <td>90.672000</td>\n",
       "      <td>31.800000</td>\n",
       "      <td>2.540000</td>\n",
       "      <td>75.860000</td>\n",
       "    </tr>\n",
       "    <tr>\n",
       "      <th>75%</th>\n",
       "      <td>4.994250e+03</td>\n",
       "      <td>107.000000</td>\n",
       "      <td>222.873000</td>\n",
       "      <td>39.800000</td>\n",
       "      <td>4.210000</td>\n",
       "      <td>80.100000</td>\n",
       "    </tr>\n",
       "    <tr>\n",
       "      <th>max</th>\n",
       "      <td>1.646571e+07</td>\n",
       "      <td>653862.000000</td>\n",
       "      <td>19347.500000</td>\n",
       "      <td>48.200000</td>\n",
       "      <td>13.800000</td>\n",
       "      <td>86.750000</td>\n",
       "    </tr>\n",
       "  </tbody>\n",
       "</table>\n",
       "</div>"
      ],
      "text/plain": [
       "        total_cases   total_deaths  population_density    median_age  \\\n",
       "count  3.285200e+04   32852.000000        31711.000000  29888.000000   \n",
       "mean   5.022757e+04    2632.043742          368.823430     31.641485   \n",
       "std    5.106306e+05   25029.235976         1681.127189      9.012004   \n",
       "min    0.000000e+00       0.000000            0.137000     15.100000   \n",
       "25%    2.100000e+01       0.000000           39.497000     24.400000   \n",
       "50%    4.410000e+02       9.000000           90.672000     31.800000   \n",
       "75%    4.994250e+03     107.000000          222.873000     39.800000   \n",
       "max    1.646571e+07  653862.000000        19347.500000     48.200000   \n",
       "\n",
       "       hospital_beds_per_thousand  life_expectancy  \n",
       "count                27188.000000     32744.000000  \n",
       "mean                     3.147806        74.249280  \n",
       "std                      2.549893         7.315021  \n",
       "min                      0.100000        53.280000  \n",
       "25%                      1.380000        70.390000  \n",
       "50%                      2.540000        75.860000  \n",
       "75%                      4.210000        80.100000  \n",
       "max                     13.800000        86.750000  "
      ]
     },
     "execution_count": 9,
     "metadata": {},
     "output_type": "execute_result"
    }
   ],
   "source": [
    "data.describe()"
   ]
  },
  {
   "cell_type": "code",
   "execution_count": 10,
   "metadata": {
    "colab": {},
    "colab_type": "code",
    "id": "Nj8gMH630lr5"
   },
   "outputs": [],
   "source": [
    "data = data.dropna()"
   ]
  },
  {
   "cell_type": "code",
   "execution_count": 11,
   "metadata": {
    "colab": {
     "base_uri": "https://localhost:8080/",
     "height": 170
    },
    "colab_type": "code",
    "id": "_o4AFcrv0lsC",
    "outputId": "4ff56f15-7824-4239-e29d-90625c7f6719"
   },
   "outputs": [
    {
     "data": {
      "text/plain": [
       "location                      0\n",
       "date                          0\n",
       "total_cases                   0\n",
       "total_deaths                  0\n",
       "population_density            0\n",
       "median_age                    0\n",
       "hospital_beds_per_thousand    0\n",
       "life_expectancy               0\n",
       "dtype: int64"
      ]
     },
     "execution_count": 11,
     "metadata": {},
     "output_type": "execute_result"
    }
   ],
   "source": [
    "data.isna().sum()"
   ]
  },
  {
   "cell_type": "code",
   "execution_count": 12,
   "metadata": {
    "colab": {},
    "colab_type": "code",
    "id": "GuFFJOtY0lsE"
   },
   "outputs": [],
   "source": [
    "world = data[data.location == \"World\"].index.values\n",
    "inter = data[data.location==\"International\"].index.values\n",
    "indexes = np.concatenate( [world,inter] )\n",
    "data = data.drop(indexes)"
   ]
  },
  {
   "cell_type": "code",
   "execution_count": 13,
   "metadata": {
    "colab": {
     "base_uri": "https://localhost:8080/",
     "height": 34
    },
    "colab_type": "code",
    "id": "KS6vOHm9ZlBO",
    "outputId": "a0e509c2-2d21-4e9f-90b3-4e0002958e95"
   },
   "outputs": [
    {
     "data": {
      "text/plain": [
       "(25727, 8)"
      ]
     },
     "execution_count": 13,
     "metadata": {},
     "output_type": "execute_result"
    }
   ],
   "source": [
    "data.shape"
   ]
  },
  {
   "cell_type": "code",
   "execution_count": 14,
   "metadata": {
    "colab": {
     "base_uri": "https://localhost:8080/",
     "height": 561
    },
    "colab_type": "code",
    "id": "GP1CMDxO0s39",
    "outputId": "a6029a15-92d8-4871-a63f-e2659393bca8"
   },
   "outputs": [
    {
     "data": {
      "text/plain": [
       "array(['Afghanistan', 'Albania', 'Algeria', 'Antigua and Barbuda',\n",
       "       'Argentina', 'Armenia', 'Australia', 'Austria', 'Azerbaijan',\n",
       "       'Bahamas', 'Bahrain', 'Bangladesh', 'Barbados', 'Belarus',\n",
       "       'Belgium', 'Belize', 'Benin', 'Bhutan', 'Bolivia',\n",
       "       'Bosnia and Herzegovina', 'Botswana', 'Brazil', 'Brunei',\n",
       "       'Bulgaria', 'Burkina Faso', 'Burundi', 'Cambodia', 'Cameroon',\n",
       "       'Canada', 'Cape Verde', 'Central African Republic', 'Chile',\n",
       "       'China', 'Colombia', 'Comoros', 'Costa Rica', 'Croatia', 'Cuba',\n",
       "       'Cyprus', 'Czech Republic', 'Denmark', 'Djibouti',\n",
       "       'Dominican Republic', 'Ecuador', 'Egypt', 'El Salvador',\n",
       "       'Equatorial Guinea', 'Eritrea', 'Estonia', 'Ethiopia', 'Fiji',\n",
       "       'Finland', 'France', 'Gabon', 'Gambia', 'Georgia', 'Germany',\n",
       "       'Ghana', 'Greece', 'Grenada', 'Guatemala', 'Guinea', 'Guyana',\n",
       "       'Haiti', 'Honduras', 'Hungary', 'Iceland', 'India', 'Indonesia',\n",
       "       'Iran', 'Iraq', 'Ireland', 'Israel', 'Italy', 'Jamaica', 'Japan',\n",
       "       'Jordan', 'Kazakhstan', 'Kenya', 'Kuwait', 'Kyrgyzstan', 'Laos',\n",
       "       'Latvia', 'Lebanon', 'Liberia', 'Libya', 'Lithuania', 'Luxembourg',\n",
       "       'Macedonia', 'Madagascar', 'Malawi', 'Malaysia', 'Mali', 'Malta',\n",
       "       'Mauritius', 'Mexico', 'Moldova', 'Mongolia', 'Montenegro',\n",
       "       'Morocco', 'Mozambique', 'Myanmar', 'Nepal', 'Netherlands',\n",
       "       'New Zealand', 'Nicaragua', 'Niger', 'Norway', 'Oman', 'Pakistan',\n",
       "       'Panama', 'Paraguay', 'Peru', 'Philippines', 'Poland', 'Portugal',\n",
       "       'Qatar', 'Romania', 'Russia', 'Saint Lucia',\n",
       "       'Saint Vincent and the Grenadines', 'Sao Tome and Principe',\n",
       "       'Saudi Arabia', 'Serbia', 'Seychelles', 'Singapore', 'Slovakia',\n",
       "       'Slovenia', 'Somalia', 'South Africa', 'South Korea', 'Spain',\n",
       "       'Sri Lanka', 'Sudan', 'Suriname', 'Swaziland', 'Sweden',\n",
       "       'Switzerland', 'Tajikistan', 'Tanzania', 'Thailand', 'Timor',\n",
       "       'Togo', 'Trinidad and Tobago', 'Tunisia', 'Turkey', 'Uganda',\n",
       "       'Ukraine', 'United Arab Emirates', 'United Kingdom',\n",
       "       'United States', 'Uruguay', 'Uzbekistan', 'Venezuela', 'Vietnam',\n",
       "       'Yemen', 'Zambia', 'Zimbabwe'], dtype=object)"
      ]
     },
     "execution_count": 14,
     "metadata": {},
     "output_type": "execute_result"
    }
   ],
   "source": [
    "data.location.unique()"
   ]
  },
  {
   "cell_type": "markdown",
   "metadata": {
    "colab_type": "text",
    "id": "z11L5q20Yvg4"
   },
   "source": [
    "# Basic Visualization"
   ]
  },
  {
   "cell_type": "code",
   "execution_count": 15,
   "metadata": {
    "colab": {
     "base_uri": "https://localhost:8080/",
     "height": 456
    },
    "colab_type": "code",
    "id": "gz4OIUrP2e5w",
    "outputId": "69c39775-c23b-465a-a158-536c4f4be1a3"
   },
   "outputs": [
    {
     "data": {
      "image/png": "[encoded data removed]",
      "text/plain": [
       "<Figure size 720x360 with 2 Axes>"
      ]
     },
     "metadata": {
      "needs_background": "light"
     },
     "output_type": "display_data"
    }
   ],
   "source": [
    "plt.figure(figsize=(10,5))\n",
    "sns.heatmap(data.corr(),annot=True)\n",
    "plt.show()"
   ]
  },
  {
   "cell_type": "code",
   "execution_count": 16,
   "metadata": {
    "colab": {
     "base_uri": "https://localhost:8080/",
     "height": 551
    },
    "colab_type": "code",
    "id": "rbNoLMIovF-K",
    "outputId": "40edd616-c943-4569-9c2d-a48e31ab6b32"
   },
   "outputs": [
    {
     "data": {
      "image/png": "[encoded data removed]",
      "text/plain": [
       "<Figure size 1080x648 with 1 Axes>"
      ]
     },
     "metadata": {
      "needs_background": "light"
     },
     "output_type": "display_data"
    }
   ],
   "source": [
    "data1 = data[(data[\"location\"] == \"India\") | (data[\"location\"]==\"China\")]\n",
    "plt.figure(figsize=(15,9))\n",
    "sns.barplot(x='location',y='total_cases',data = data1,ci=0)\n",
    "plt.show()"
   ]
  },
  {
   "cell_type": "markdown",
   "metadata": {
    "colab_type": "text",
    "id": "kdLtdw9aZEs6"
   },
   "source": [
    "# Random Forest Regressor Model\n",
    "\n"
   ]
  },
  {
   "cell_type": "code",
   "execution_count": 17,
   "metadata": {
    "colab": {
     "base_uri": "https://localhost:8080/",
     "height": 204
    },
    "colab_type": "code",
    "id": "xBwMrRr_ZMzz",
    "outputId": "64932317-f6a9-4f99-f5e4-facca8ba7be8"
   },
   "outputs": [
    {
     "data": {
      "text/html": [
       "<div>\n",
       "<style scoped>\n",
       "    .dataframe tbody tr th:only-of-type {\n",
       "        vertical-align: middle;\n",
       "    }\n",
       "\n",
       "    .dataframe tbody tr th {\n",
       "        vertical-align: top;\n",
       "    }\n",
       "\n",
       "    .dataframe thead th {\n",
       "        text-align: right;\n",
       "    }\n",
       "</style>\n",
       "<table border=\"1\" class=\"dataframe\">\n",
       "  <thead>\n",
       "    <tr style=\"text-align: right;\">\n",
       "      <th></th>\n",
       "      <th>location</th>\n",
       "      <th>date</th>\n",
       "      <th>total_cases</th>\n",
       "      <th>total_deaths</th>\n",
       "      <th>population_density</th>\n",
       "      <th>median_age</th>\n",
       "      <th>hospital_beds_per_thousand</th>\n",
       "      <th>life_expectancy</th>\n",
       "    </tr>\n",
       "  </thead>\n",
       "  <tbody>\n",
       "    <tr>\n",
       "      <th>0</th>\n",
       "      <td>Afghanistan</td>\n",
       "      <td>737424</td>\n",
       "      <td>0.0</td>\n",
       "      <td>0.0</td>\n",
       "      <td>54.422</td>\n",
       "      <td>18.6</td>\n",
       "      <td>0.5</td>\n",
       "      <td>64.83</td>\n",
       "    </tr>\n",
       "    <tr>\n",
       "      <th>1</th>\n",
       "      <td>Afghanistan</td>\n",
       "      <td>737425</td>\n",
       "      <td>0.0</td>\n",
       "      <td>0.0</td>\n",
       "      <td>54.422</td>\n",
       "      <td>18.6</td>\n",
       "      <td>0.5</td>\n",
       "      <td>64.83</td>\n",
       "    </tr>\n",
       "    <tr>\n",
       "      <th>2</th>\n",
       "      <td>Afghanistan</td>\n",
       "      <td>737426</td>\n",
       "      <td>0.0</td>\n",
       "      <td>0.0</td>\n",
       "      <td>54.422</td>\n",
       "      <td>18.6</td>\n",
       "      <td>0.5</td>\n",
       "      <td>64.83</td>\n",
       "    </tr>\n",
       "    <tr>\n",
       "      <th>3</th>\n",
       "      <td>Afghanistan</td>\n",
       "      <td>737427</td>\n",
       "      <td>0.0</td>\n",
       "      <td>0.0</td>\n",
       "      <td>54.422</td>\n",
       "      <td>18.6</td>\n",
       "      <td>0.5</td>\n",
       "      <td>64.83</td>\n",
       "    </tr>\n",
       "    <tr>\n",
       "      <th>4</th>\n",
       "      <td>Afghanistan</td>\n",
       "      <td>737428</td>\n",
       "      <td>0.0</td>\n",
       "      <td>0.0</td>\n",
       "      <td>54.422</td>\n",
       "      <td>18.6</td>\n",
       "      <td>0.5</td>\n",
       "      <td>64.83</td>\n",
       "    </tr>\n",
       "  </tbody>\n",
       "</table>\n",
       "</div>"
      ],
      "text/plain": [
       "      location    date  total_cases  total_deaths  population_density  \\\n",
       "0  Afghanistan  737424          0.0           0.0              54.422   \n",
       "1  Afghanistan  737425          0.0           0.0              54.422   \n",
       "2  Afghanistan  737426          0.0           0.0              54.422   \n",
       "3  Afghanistan  737427          0.0           0.0              54.422   \n",
       "4  Afghanistan  737428          0.0           0.0              54.422   \n",
       "\n",
       "   median_age  hospital_beds_per_thousand  life_expectancy  \n",
       "0        18.6                         0.5            64.83  \n",
       "1        18.6                         0.5            64.83  \n",
       "2        18.6                         0.5            64.83  \n",
       "3        18.6                         0.5            64.83  \n",
       "4        18.6                         0.5            64.83  "
      ]
     },
     "execution_count": 17,
     "metadata": {},
     "output_type": "execute_result"
    }
   ],
   "source": [
    "random_forest_data = data.copy()\n",
    "random_forest_data[\"date\"] = random_forest_data[\"date\"].map(dt.datetime.toordinal)\n",
    "random_forest_data.head()"
   ]
  },
  {
   "cell_type": "code",
   "execution_count": 18,
   "metadata": {
    "colab": {},
    "colab_type": "code",
    "id": "TGmbmwnoZYZ7"
   },
   "outputs": [],
   "source": [
    "def convert_country_to_val(data):\n",
    "  countries = ['Afghanistan', 'Albania', 'Algeria', 'Antigua and Barbuda',\n",
    "       'Argentina', 'Armenia', 'Australia', 'Austria', 'Azerbaijan',\n",
    "       'Bahamas', 'Bahrain', 'Bangladesh', 'Barbados', 'Belarus',\n",
    "       'Belgium', 'Belize', 'Benin', 'Bhutan', 'Bolivia',\n",
    "       'Bosnia and Herzegovina', 'Botswana', 'Brazil', 'Brunei',\n",
    "       'Bulgaria', 'Burkina Faso', 'Burundi', 'Cambodia', 'Cameroon',\n",
    "       'Canada', 'Cape Verde', 'Central African Republic', 'Chile',\n",
    "       'China', 'Colombia', 'Comoros', 'Costa Rica', 'Croatia', 'Cuba',\n",
    "       'Cyprus', 'Czech Republic', 'Denmark', 'Djibouti',\n",
    "       'Dominican Republic', 'Ecuador', 'Egypt', 'El Salvador',\n",
    "       'Equatorial Guinea', 'Eritrea', 'Estonia', 'Ethiopia', 'Fiji',\n",
    "       'Finland', 'France', 'Gabon', 'Gambia', 'Georgia', 'Germany',\n",
    "       'Ghana', 'Greece', 'Grenada', 'Guatemala', 'Guinea', 'Guyana',\n",
    "       'Haiti', 'Honduras', 'Hungary', 'Iceland', 'India', 'Indonesia',\n",
    "       'Iran', 'Iraq', 'Ireland', 'Israel', 'Italy', 'Jamaica', 'Japan',\n",
    "       'Jordan', 'Kazakhstan', 'Kenya', 'Kuwait', 'Kyrgyzstan', 'Laos',\n",
    "       'Latvia', 'Lebanon', 'Liberia', 'Libya', 'Lithuania', 'Luxembourg',\n",
    "       'Macedonia', 'Madagascar', 'Malawi', 'Malaysia', 'Mali', 'Malta',\n",
    "       'Mauritius', 'Mexico', 'Moldova', 'Mongolia', 'Montenegro',\n",
    "       'Morocco', 'Mozambique', 'Myanmar', 'Nepal', 'Netherlands',\n",
    "       'New Zealand', 'Nicaragua', 'Niger', 'Norway', 'Oman', 'Pakistan',\n",
    "       'Panama', 'Paraguay', 'Peru', 'Philippines', 'Poland', 'Portugal',\n",
    "       'Qatar', 'Romania', 'Russia', 'Saint Lucia',\n",
    "       'Saint Vincent and the Grenadines', 'Sao Tome and Principe',\n",
    "       'Saudi Arabia', 'Serbia', 'Seychelles', 'Singapore', 'Slovakia',\n",
    "       'Slovenia', 'Somalia', 'South Africa', 'South Korea', 'Spain',\n",
    "       'Sri Lanka', 'Sudan', 'Suriname', 'Swaziland', 'Sweden',\n",
    "       'Switzerland', 'Tajikistan', 'Tanzania', 'Thailand', 'Timor',\n",
    "       'Togo', 'Trinidad and Tobago', 'Tunisia', 'Turkey', 'Uganda',\n",
    "       'Ukraine', 'United Arab Emirates', 'United Kingdom',\n",
    "       'United States', 'Uruguay', 'Uzbekistan', 'Venezuela', 'Vietnam',\n",
    "       'Yemen', 'Zambia', 'Zimbabwe']\n",
    "  data.location = data.location.apply(lambda x:countries.index(x))\n",
    "  return data.location"
   ]
  },
  {
   "cell_type": "code",
   "execution_count": 19,
   "metadata": {
    "colab": {
     "base_uri": "https://localhost:8080/",
     "height": 204
    },
    "colab_type": "code",
    "id": "IhpjTPPuZaYd",
    "outputId": "a893d037-5acf-419b-96ff-b54a736e1da5"
   },
   "outputs": [
    {
     "data": {
      "text/html": [
       "<div>\n",
       "<style scoped>\n",
       "    .dataframe tbody tr th:only-of-type {\n",
       "        vertical-align: middle;\n",
       "    }\n",
       "\n",
       "    .dataframe tbody tr th {\n",
       "        vertical-align: top;\n",
       "    }\n",
       "\n",
       "    .dataframe thead th {\n",
       "        text-align: right;\n",
       "    }\n",
       "</style>\n",
       "<table border=\"1\" class=\"dataframe\">\n",
       "  <thead>\n",
       "    <tr style=\"text-align: right;\">\n",
       "      <th></th>\n",
       "      <th>location</th>\n",
       "      <th>date</th>\n",
       "      <th>total_cases</th>\n",
       "      <th>total_deaths</th>\n",
       "      <th>population_density</th>\n",
       "      <th>median_age</th>\n",
       "      <th>hospital_beds_per_thousand</th>\n",
       "      <th>life_expectancy</th>\n",
       "    </tr>\n",
       "  </thead>\n",
       "  <tbody>\n",
       "    <tr>\n",
       "      <th>0</th>\n",
       "      <td>0</td>\n",
       "      <td>737424</td>\n",
       "      <td>0.0</td>\n",
       "      <td>0.0</td>\n",
       "      <td>54.422</td>\n",
       "      <td>18.6</td>\n",
       "      <td>0.5</td>\n",
       "      <td>64.83</td>\n",
       "    </tr>\n",
       "    <tr>\n",
       "      <th>1</th>\n",
       "      <td>0</td>\n",
       "      <td>737425</td>\n",
       "      <td>0.0</td>\n",
       "      <td>0.0</td>\n",
       "      <td>54.422</td>\n",
       "      <td>18.6</td>\n",
       "      <td>0.5</td>\n",
       "      <td>64.83</td>\n",
       "    </tr>\n",
       "    <tr>\n",
       "      <th>2</th>\n",
       "      <td>0</td>\n",
       "      <td>737426</td>\n",
       "      <td>0.0</td>\n",
       "      <td>0.0</td>\n",
       "      <td>54.422</td>\n",
       "      <td>18.6</td>\n",
       "      <td>0.5</td>\n",
       "      <td>64.83</td>\n",
       "    </tr>\n",
       "    <tr>\n",
       "      <th>3</th>\n",
       "      <td>0</td>\n",
       "      <td>737427</td>\n",
       "      <td>0.0</td>\n",
       "      <td>0.0</td>\n",
       "      <td>54.422</td>\n",
       "      <td>18.6</td>\n",
       "      <td>0.5</td>\n",
       "      <td>64.83</td>\n",
       "    </tr>\n",
       "    <tr>\n",
       "      <th>4</th>\n",
       "      <td>0</td>\n",
       "      <td>737428</td>\n",
       "      <td>0.0</td>\n",
       "      <td>0.0</td>\n",
       "      <td>54.422</td>\n",
       "      <td>18.6</td>\n",
       "      <td>0.5</td>\n",
       "      <td>64.83</td>\n",
       "    </tr>\n",
       "  </tbody>\n",
       "</table>\n",
       "</div>"
      ],
      "text/plain": [
       "   location    date  total_cases  total_deaths  population_density  \\\n",
       "0         0  737424          0.0           0.0              54.422   \n",
       "1         0  737425          0.0           0.0              54.422   \n",
       "2         0  737426          0.0           0.0              54.422   \n",
       "3         0  737427          0.0           0.0              54.422   \n",
       "4         0  737428          0.0           0.0              54.422   \n",
       "\n",
       "   median_age  hospital_beds_per_thousand  life_expectancy  \n",
       "0        18.6                         0.5            64.83  \n",
       "1        18.6                         0.5            64.83  \n",
       "2        18.6                         0.5            64.83  \n",
       "3        18.6                         0.5            64.83  \n",
       "4        18.6                         0.5            64.83  "
      ]
     },
     "execution_count": 19,
     "metadata": {},
     "output_type": "execute_result"
    }
   ],
   "source": [
    "random_forest_data.location = convert_country_to_val(random_forest_data)\n",
    "random_forest_data.head()"
   ]
  },
  {
   "cell_type": "code",
   "execution_count": 20,
   "metadata": {
    "colab": {},
    "colab_type": "code",
    "id": "oeMYAKquZdGh"
   },
   "outputs": [],
   "source": [
    "#x = loc,date,pop density,age,beds,life\n",
    "#y = cases,deaths\n",
    "# we dropped values and the index is not a continuous range hence we need to reset indexes\n",
    "random_forest_data = random_forest_data.reset_index()\n",
    "x = random_forest_data.iloc[:,[0,1,4,5,6,7]].values\n",
    "y = random_forest_data.iloc[:,[2,3]].values"
   ]
  },
  {
   "cell_type": "code",
   "execution_count": 21,
   "metadata": {
    "colab": {},
    "colab_type": "code",
    "id": "yP8dUHgrZgNy"
   },
   "outputs": [],
   "source": [
    "from sklearn.preprocessing import StandardScaler\n",
    "\n",
    "scale_x = StandardScaler()\n",
    "x = scale_x.fit_transform(x)\n",
    "scale_y = StandardScaler()\n",
    "y = scale_y.fit_transform(y)"
   ]
  },
  {
   "cell_type": "code",
   "execution_count": 22,
   "metadata": {
    "colab": {},
    "colab_type": "code",
    "id": "S-hg3ENwZhwh"
   },
   "outputs": [],
   "source": [
    "from sklearn.model_selection import train_test_split\n",
    "\n",
    "x_train,x_test,y_train,y_test = train_test_split(x,y,test_size=0.3)"
   ]
  },
  {
   "cell_type": "code",
   "execution_count": 23,
   "metadata": {
    "colab": {
     "base_uri": "https://localhost:8080/",
     "height": 136
    },
    "colab_type": "code",
    "id": "UoyR-h72ZjNA",
    "outputId": "71890376-d04b-461a-a49e-4768bd0d1f08"
   },
   "outputs": [
    {
     "data": {
      "text/plain": [
       "RandomForestRegressor(n_estimators=150)"
      ]
     },
     "execution_count": 23,
     "metadata": {},
     "output_type": "execute_result"
    }
   ],
   "source": [
    "from sklearn.ensemble import RandomForestRegressor\n",
    "\n",
    "RFR = RandomForestRegressor(n_estimators=150)\n",
    "RFR.fit(x_train,y_train)"
   ]
  },
  {
   "cell_type": "code",
   "execution_count": 24,
   "metadata": {
    "colab": {},
    "colab_type": "code",
    "id": "xGkNeFFDZlFG"
   },
   "outputs": [],
   "source": [
    "def compare():\n",
    "  to_check = random_forest_data.loc[random_forest_data[\"location\"] == 0,].sort_values(by=\"date\").values\n",
    "  to_check[-1,:]\n",
    "  tx = to_check[-1,[0,1,4,5,6,7]].reshape(1,-1)\n",
    "  ty = to_check[-1,[2,3]].reshape(1,-1)\n",
    "  forest = scale_y.inverse_transform(RFR.predict(scale_x.transform(tx)))\n",
    "  print(\"Original values = {}\\nRandom Forest = {}\".format(ty,forest))"
   ]
  },
  {
   "cell_type": "code",
   "execution_count": 25,
   "metadata": {
    "colab": {
     "base_uri": "https://localhost:8080/",
     "height": 68
    },
    "colab_type": "code",
    "id": "9RsmInBQZpc8",
    "outputId": "f979f5a5-460d-476f-ac0a-7444d4730207"
   },
   "outputs": [
    {
     "name": "stdout",
     "output_type": "stream",
     "text": [
      "Accuracy for RFR = 0.9990336590125829\n",
      "Original values = [[737634.  36368.]]\n",
      "Random Forest = [[737631.84666667  36113.02666667]]\n"
     ]
    }
   ],
   "source": [
    "y_pred_RFR = RFR.predict(x_test)\n",
    "print(\"Accuracy for RFR = {}\".format(RFR.score(x_test,y_test)))\n",
    "compare()"
   ]
  },
  {
   "cell_type": "code",
   "execution_count": 26,
   "metadata": {
    "colab": {
     "base_uri": "https://localhost:8080/",
     "height": 34
    },
    "colab_type": "code",
    "id": "MPAukXGkZ6eF",
    "outputId": "a6ec825e-ef85-4344-d9e5-45e75be8c584"
   },
   "outputs": [
    {
     "name": "stdout",
     "output_type": "stream",
     "text": [
      "[[737581.96666667  13285.41333333]]\n"
     ]
    }
   ],
   "source": [
    "to_verify = pd.DataFrame({\"location\":[\"India\"],\"date\":[dt.datetime.toordinal(pd.to_datetime(\"2020-07-29\"))],\"population_density\":[450.419],\"median_age\":[28.2],\t\"hospital_beds_per_thousand\":[0.53],\t\"life_expectancy\":[69.66]})\n",
    "to_verify.location = convert_country_to_val(to_verify)\n",
    "scaled = scale_x.transform(to_verify.values)\n",
    "print(scale_y.inverse_transform(RFR.predict(scaled)))"
   ]
  },
  {
   "cell_type": "code",
   "execution_count": 27,
   "metadata": {
    "colab": {
     "base_uri": "https://localhost:8080/",
     "height": 34
    },
    "colab_type": "code",
    "id": "kuttvrfkzAao",
    "outputId": "e7fd9f16-f8c8-425e-8687-3400f4dade13"
   },
   "outputs": [
    {
     "name": "stdout",
     "output_type": "stream",
     "text": [
      "[[737581.96666667  13285.41333333]]\n"
     ]
    }
   ],
   "source": [
    "to_verify = pd.DataFrame({\"location\":[\"India\"],\"date\":[dt.datetime.toordinal(pd.to_datetime(\"2020-08-1\"))],\"population_density\":[450.419],\"median_age\":[28.2],\t\"hospital_beds_per_thousand\":[0.53],\t\"life_expectancy\":[69.66]})\n",
    "to_verify.location = convert_country_to_val(to_verify)\n",
    "scaled = scale_x.transform(to_verify.values)\n",
    "print(scale_y.inverse_transform(RFR.predict(scaled)))"
   ]
  },
  {
   "cell_type": "markdown",
   "metadata": {
    "colab_type": "text",
    "id": "dQEzfypfY0Xh"
   },
   "source": [
    "# ARIMA model\n",
    "\n"
   ]
  },
  {
   "cell_type": "code",
   "execution_count": 28,
   "metadata": {
    "colab": {},
    "colab_type": "code",
    "id": "sfC3yHpocVUl"
   },
   "outputs": [],
   "source": [
    "arima_data = data.copy()"
   ]
  },
  {
   "cell_type": "code",
   "execution_count": 29,
   "metadata": {
    "colab": {},
    "colab_type": "code",
    "id": "xmjaHwmR0dXw"
   },
   "outputs": [],
   "source": [
    "def train_test_split_(series):\n",
    "  ''' splits the data sequentially to 75 : 25 ratio for train : test'''\n",
    "  train = series[: int(len(series) * 0.75)]\n",
    "  test = series[int(len(series) * 0.75) :]\n",
    "  return train, test\n"
   ]
  },
  {
   "cell_type": "code",
   "execution_count": 30,
   "metadata": {
    "colab": {},
    "colab_type": "code",
    "id": "4b4U6X9Mvbaj"
   },
   "outputs": [],
   "source": [
    "from statsmodels.tsa.arima_model import ARIMA\n",
    "from pmdarima.arima import auto_arima\n",
    "import warnings\n",
    "from sklearn.metrics import mean_squared_error\n",
    "import numpy as np\n",
    "warnings.filterwarnings('ignore')\n",
    "\n",
    "\n",
    "def model(train, test): # ret hyperp-parameters and performance using rmse. Used this to compare arima's performance with other models\n",
    "        ''' Takes train and test\n",
    "        Generates model trained on train data and provides prediction for test data.\n",
    "        return model, rmse, order and predictions for test data with plot'''\n",
    "        arima_order = auto_arima(train, seasonal= False, information_criterion= 'aic')\n",
    "        order = arima_order.order #returns p d q terms\n",
    "        seasonal_order = arima_order.seasonal_order # ret arima_order + P D Q m\n",
    "        \n",
    "       \n",
    "        arima_model = ARIMA(train, order = order)\n",
    "        arima_model = arima_model.fit()\n",
    "        start = len(train)\n",
    "        end = len(train) + len(test) - 1\n",
    "        arima_pred = arima_model.predict(start, end, dynamic = False, typ = 'levels')\n",
    "        rmse_arima = np.sqrt(mean_squared_error(test, arima_pred))   \n",
    "\n",
    "        return arima_model, rmse_arima, arima_order,arima_pred\n",
    "        "
   ]
  },
  {
   "cell_type": "code",
   "execution_count": 31,
   "metadata": {
    "colab": {},
    "colab_type": "code",
    "id": "6q-shE5ABEGz"
   },
   "outputs": [],
   "source": [
    "def arima_forecast(train, forecast_range, order):\n",
    "        ''' Takes train data, forecast range to provide predictions and order containing hyperparameters.\n",
    "        model is trained on entire dataset for that location.\n",
    "        Returns predictions'''\n",
    "        arima_order = auto_arima(train, seasonal= False, information_criterion= 'aic')\n",
    "        order = arima_order.order #returns p d q terms\n",
    "        \n",
    "        arima_model = ARIMA(train, order = order)\n",
    "        arima_model = arima_model.fit()\n",
    "        start = len(train)\n",
    "        end = start + forecast_range - 1\n",
    "        arima_pred = arima_model.predict(start, end, dynamic = False, typ = 'levels')\n",
    "        return arima_pred"
   ]
  },
  {
   "cell_type": "code",
   "execution_count": 32,
   "metadata": {
    "colab": {},
    "colab_type": "code",
    "id": "IXjZv5JEBPW2"
   },
   "outputs": [],
   "source": [
    "def process(location,forecast_range):\n",
    "  ''' Takes user location choice and forecast range for predictions'''\n",
    "\n",
    "  user_location = arima_data.loc[arima_data.location==location,:]\n",
    "  user_location = user_location.sort_values(by = ['date'])\n",
    "  user_location = user_location.set_index('date')\n",
    "  # data for a location has same name and other fields are redundant hence we need to remove them\n",
    "  user_location = user_location.drop(columns=['location', 'population_density',\n",
    "        'median_age', 'hospital_beds_per_thousand', 'life_expectancy'])\n",
    "  # filter dataset having non zero values\n",
    "  user_location = user_location.loc[(user_location[\"total_cases\"] > 0) & (user_location[\"total_deaths\"] > 0)]\n",
    "\n",
    "  # separate case and deaths fields\n",
    "  user_cases = user_location['total_cases']\n",
    "  user_deaths = user_location['total_deaths']\n",
    "\n",
    "  # make deaths and cases train and test data\n",
    "  train_deaths, test_deaths = train_test_split_(user_location['total_deaths'])\n",
    "  train_cases, test_cases = train_test_split_(user_location['total_cases'])\n",
    "\n",
    "  # model building \n",
    "  model_deaths, rmse_deaths, order_deaths, partial_pred_deaths = model(train_deaths, test_deaths)\n",
    "  model_cases, rmse_cases, order_cases, partial_pred_cases = model(train_cases, test_cases)\n",
    "\n",
    "  # plotting to check the testing values and predicted values\n",
    "  plt.plot(train_deaths,label=\"deaths training set\")\n",
    "  plt.plot(partial_pred_deaths,label = \"predicted deaths testing set\")\n",
    "  plt.plot(test_deaths,label=\"actual deaths testing set\")\n",
    "  plt.xlabel(\"Dates\")\n",
    "  plt.ylabel(\"Total deaths\")\n",
    "  plt.title(\"Plot for deaths with actual testing and predicted data for comparison\")\n",
    "  plt.legend()\n",
    "  plt.show()\n",
    "\n",
    "  # forecast deaths and cases values for specific location\n",
    "  pred_deaths = arima_forecast(user_deaths, forecast_range, order_deaths.order)\n",
    "  pred_cases = arima_forecast(user_cases, forecast_range, order_cases.order)\n",
    "\n",
    "  # return predicted and original values\n",
    "  return pred_deaths,pred_cases,user_deaths,user_cases\n",
    "\n",
    "def plot_forecast(pred,forecast_range,show_graphs = False):\n",
    "  '''Takes location i.e predm forecast range and bool varibale to show additional graphs'''\n",
    "  pred_deaths,pred_cases,user_deaths,user_cases = process(pred,forecast_range)\n",
    "\n",
    "  if show_graphs == True:\n",
    "    plt.plot(user_cases,label=\"Actual cases\")\n",
    "    plt.plot(pred_cases,label=\"Predicted cases\")\n",
    "    plt.xlabel(\"Dates\")\n",
    "    plt.ylabel(\"Total cases\")\n",
    "    plt.title(\"Date vs Total cases for {} days forecast\".format(forecast_range))\n",
    "    plt.legend()\n",
    "    plt.show()\n",
    "\n",
    "    plt.plot(user_deaths,label=\"Actual deaths\")\n",
    "    plt.plot(pred_deaths,label=\"Predicted deaths\")\n",
    "    plt.xlabel(\"Dates\")\n",
    "    plt.ylabel(\"Total deaths\")\n",
    "    plt.title(\"Date vs Total deaths for {} days forecast\".format(forecast_range))\n",
    "    plt.legend()\n",
    "    plt.show()\n",
    "\n",
    "  return pred_deaths,pred_cases"
   ]
  },
  {
   "cell_type": "code",
   "execution_count": 33,
   "metadata": {
    "colab": {
     "base_uri": "https://localhost:8080/",
     "height": 1000
    },
    "colab_type": "code",
    "id": "Yz1YauXTEcmP",
    "outputId": "620e0ade-679c-4308-8d8f-c6b9584a69af"
   },
   "outputs": [
    {
     "data": {
      "image/png": "[encoded data removed]",
      "text/plain": [
       "<Figure size 432x288 with 1 Axes>"
      ]
     },
     "metadata": {
      "needs_background": "light"
     },
     "output_type": "display_data"
    },
    {
     "data": {
      "image/png": "[encoded data removed]",
      "text/plain": [
       "<Figure size 432x288 with 1 Axes>"
      ]
     },
     "metadata": {
      "needs_background": "light"
     },
     "output_type": "display_data"
    },
    {
     "data": {
      "image/png": "[encoded data removed]",
      "text/plain": [
       "<Figure size 432x288 with 1 Axes>"
      ]
     },
     "metadata": {
      "needs_background": "light"
     },
     "output_type": "display_data"
    }
   ],
   "source": [
    "pred_deaths,pred_cases = plot_forecast(\"India\",14,True)"
   ]
  }
 ],
 "metadata": {
  "colab": {
   "collapsed_sections": [],
   "name": "BDA Covid.ipynb",
   "provenance": []
  },
  "kernelspec": {
   "display_name": "Python 3",
   "language": "python",
   "name": "python3"
  },
  "language_info": {
   "codemirror_mode": {
    "name": "ipython",
    "version": 3
   },
   "file_extension": ".py",
   "mimetype": "text/x-python",
   "name": "python",
   "nbconvert_exporter": "python",
   "pygments_lexer": "ipython3",
   "version": "3.8.3"
  }
 },
 "nbformat": 4,
 "nbformat_minor": 1
}
